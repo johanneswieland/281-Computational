{
 "cells": [
  {
   "attachments": {},
   "cell_type": "markdown",
   "metadata": {},
   "source": [
    "# Policy Iteration and Solvers: Homework\n",
    "\n",
    "## Problem 1: Policy Function Iteration and Value Function Iteration\n",
    "\n",
    "Compare the speed and accuracy of:\n",
    "1. Standard value function iteration\n",
    "2. Value function iteration with policy iteration improvement step.\n",
    "3. Policy function iteration.\n",
    "\n",
    "## Problem 2: Newton-Raphson method\n",
    "\n",
    "1. Write a function for the Newton-Rapshon method\n",
    "2. Apply it to find the interest rate that clears the asset market. (Same calibration as in class.)\n",
    "3. Compare the speed and accuracy to the bisection method.\n",
    "\n",
    "## Problem 3: FOC from Value Function\n",
    "\n",
    "The FOC for the value function is\n",
    "\\begin{align*}\n",
    "u'(c(a)) &= \\beta (1 + r) V'(a'(a)) \\\\\n",
    "a'(a) &= (1+r)a + y - c(a)\n",
    "\\end{align*}\n",
    "\n",
    "The envelope condition for the value function is\n",
    "$$\n",
    "u'(c(a)) = V'(a).\n",
    "$$\n",
    "\n",
    "\n",
    "1. Starting with an initial guess $V_0'(a)$, use these conditions to iterate over the derivative of the value function until convergence.\n",
    "2. Compare speed and accuracy to the three methods in Problem (1).\n",
    "\n",
    "Bonus: write your code using functions. \\\n",
    "Bonus bonus: write your code using an object."
   ]
  },
  {
   "attachments": {},
   "cell_type": "markdown",
   "metadata": {},
   "source": []
  }
 ],
 "metadata": {
  "language_info": {
   "name": "python"
  }
 },
 "nbformat": 4,
 "nbformat_minor": 2
}
