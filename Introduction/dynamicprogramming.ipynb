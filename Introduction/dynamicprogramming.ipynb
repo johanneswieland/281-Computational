{
 "cells": [
  {
   "cell_type": "markdown",
   "metadata": {},
   "source": [
    "# Introduction to Dynamic Programming\n",
    "\n",
    "Topics:\n",
    "1. Relationship between sequence problem and dynamic programming problem\n",
    "2. The Contraction Mapping Theorem and Blackwell's sufficient conditions.\n",
    "3. Getting started on value function iteration in a consumption-saving problem."
   ]
  },
  {
   "cell_type": "markdown",
   "metadata": {},
   "source": [
    "## Sequence Problem and Dynamic Programming Problem\n",
    "\n",
    "Reference: Stokey-Lucas, Ch 4.\n",
    "\n",
    "Throughout this class we will use a consumption-saving problem as our main application. We start with a simple version with no idiosyncratic or aggregate uncertainty and no deterministic variation in income or interest rates. We assume standard regularity conditions on the utility function. \n",
    "\n",
    "The utility function is:\n",
    "$$\n",
    "\\sup_{\\{c_{t}\\}_{t=0}^{\\infty}}\\sum_{t=0}^{\\infty}\\beta^t u(c_{t}) \n",
    "$$\n",
    "The per-period budget constraint is:\n",
    "$$\n",
    "a_{t} = (1+ r)a_{t-1} + y - c_t \\qquad \\forall t\\ge 0\n",
    "$$\n",
    "Initial wealth $a_{-1}$ is given.\n",
    "\n",
    "#### Sequence Problem\n",
    "\n",
    "A sequence problem is:\n",
    "\\begin{align*}\n",
    "\\sup_{\\{x_{t}\\}_{t=0}^{\\infty}}&\\sum_{t=0}^{\\infty}\\beta^t u(x_{t-1},x_t) \\\\\n",
    "\\text{s.t.  }\\qquad &x_t \\in \\Gamma(x_{t-1})  \\\\\n",
    "&x_{-1} \\in X \\text{ given}\n",
    "\\end{align*}\n",
    "\n",
    "It is what it says on the tin: our goal is to find the sequence $\\{x_{t}\\}_{t=0}^{\\infty}$ that solves this problem.\n",
    "\n",
    "We can translate the consumption-saving problem into Sequence Problem notation:\n",
    "$$\n",
    "\\sup_{\\{a_{t}\\}_{t=0}^{\\infty}}\\sum_{t=0}^{\\infty}\\beta^t u(a_{t} - (1+ r)a_{t-1} - y) \n",
    "$$\n",
    "with $a_{-1}$ given and $\\Gamma(a_{t-1})=\\mathcal{R}$. We are looking for a sequence $\\{a_t\\}_{t=0}^{\\infty}$ that solves this problem. \n",
    "\n",
    "#### Bellman Equation\n",
    "\n",
    "The Bellman Equation is a functional equation of the form\n",
    "$$\n",
    "v(x) = \\sup_{y\\in \\Gamma(x)} [F(x,y) + \\beta v(y)]\\qquad \\forall x\n",
    "$$\n",
    "- $y = x_{+1}$ is  \n",
    "- The flow payoff is $F(x,y)$\n",
    "- The current value function is $v(x)$. \n",
    "- The continuation value function is $v(y)$\n",
    "\n",
    "The *function* $v(x)$ is a **solution** to the Bellman Equation.\n",
    "- Holds for any $x$. Different from the sequence problem, in which we only look for one solution.\n",
    "- Sometimes called a *functional solution* to the *functional* Bellman Equation.\n",
    "- Not any old function will do.\n",
    "- Does it exist? Is it unique?\n",
    "- How does it relate to the solution of the sequence problem?\n",
    "\n",
    "#### The Relationship between the Sequence Problem and the Bellman Equation\n",
    "\n",
    "A solution to the Sequence Problem is also a solution to the Bellman Equation.\n",
    "\\begin{align*}\n",
    "    v(x_{-1}) &= \\sup_{\\{x_{t} \\in \\Gamma(x_{t-1})\\}_{t=0}^{\\infty}}\\sum_{t=0}^{\\infty}\\beta^t u(x_{t-1},x_t) \\\\\n",
    "    &= \\sup_{x_0 \\in \\Gamma(x_{-1})}\\left[u(x_{-1},x_0) + \\sup_{\\{x_{t}\\in \\Gamma(x_{t-1})\\}_{t=1}^{\\infty}}\\sum_{t=1}^{\\infty}\\beta^t u(x_{t-1},x_t)\\right] \\\\\n",
    "    &= \\sup_{x_0 \\in \\Gamma(x_{-1})}\\left[u(x_{-1},x_0) + \\beta \\sup_{\\{x_{t}\\in \\Gamma(x_{t-1})\\}_{t=1}^{\\infty}}\\sum_{t=0}^{\\infty}\\beta^t u(x_{t},x_{t+1})\\right] \\\\\n",
    "    &= \\sup_{x_0 \\in \\Gamma(x_{-1})}\\left[u(x_{-1},x_0) + \\beta v(x_0)\\right] \n",
    "\\end{align*}\n",
    "\n",
    "A solution to the Bellman Equation is also a solution to the Sequence Problem.\n",
    "\\begin{align*}\n",
    "    v(x_{-1}) &= \\sup_{y\\in \\Gamma(x_{-1})} [F(x_{-1},y) + \\beta v(y)] \\\\\n",
    "    &= \\sup_{x_0\\in \\Gamma(x_{-1})} [F(x_{-1},x_0) + \\beta v(x_0)] \\\\\n",
    "    &= \\sup_{x_0\\in \\Gamma(x_{-1})} [F(x_{-1},x_0) + \\beta \\sup_{x_1\\in \\Gamma(x_0)} [F(x_0,x_1) + \\beta v(x_1)] ] \\\\\n",
    "    &= \\sup_{\\{x_t\\in \\Gamma(x_{t-1})\\}_{t=0}^{\\infty}} \\sum_{t=0}^{\\infty} \\beta^t F(x_{t-1},x_t)  \\\\\n",
    "\\end{align*}\n",
    "Sufficient condition: $\\lim_{T\\rightarrow \\infty}\\beta^T v(x_T)=0$ for all feasible sequences.\n",
    "\n",
    "\n",
    "\n",
    "\n",
    "#### Why do we use the Bellman Equation?\n",
    "\n",
    "1. In deterministic applications the difference between a sequence and a function is not particularly important.\n",
    "2. With uncertainty, one sequence for each set of outcomes. Impossible to calculate one-by-one. So we need to find functional solutions to the sequence problem anyway.\n",
    "3. The Bellman Equation efficiently exploits the regularity in standard economic problems and allows to apply the Contraction Mapping Theorem.\n"
   ]
  },
  {
   "cell_type": "markdown",
   "metadata": {},
   "source": [
    "## The Contraction Mapping Theorem and Blackwell's sufficient conditions."
   ]
  },
  {
   "cell_type": "markdown",
   "metadata": {},
   "source": []
  }
 ],
 "metadata": {
  "language_info": {
   "name": "python"
  }
 },
 "nbformat": 4,
 "nbformat_minor": 2
}
