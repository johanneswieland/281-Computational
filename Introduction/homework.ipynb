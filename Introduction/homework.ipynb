{
 "cells": [
  {
   "cell_type": "markdown",
   "metadata": {},
   "source": [
    "# Introduction to Dynamic Programming: Homework\n",
    "\n",
    "## Problem 1: Cake-eating Problem\n",
    "\n",
    "Start with the infinitely-lived cake-eating problem. The per-period utility function is $u(c) = ln(c)$ and the discount rate is $\\beta=0.99$. The cake is of initial size $x_0 = 1$. The law of motion for the cake is $x' = x- c$.\n",
    "1. What is the state variable of the problem?\n",
    "1. Set up the Bellman Equation.\n",
    "1. Solve for the value function and plot it.\n",
    "1. Plot the consumption path.\n",
    "1. Plot the consumption path for $\\beta=0.9$ and $\\beta=0.9999$. How and why are they different from your original solution?\n",
    "\n",
    "Suppose the cake depreciates at rate $\\delta$. That is the law of motion for each cake is $x' = (1-\\delta)x - c$. \n",
    "1. Solve the problem and plot the consumption path with $\\delta=0$ and $\\delta=0.1$. Explain why these consumption paths are different.\n",
    "\n",
    "Bonus: write your code using functions. \\\n",
    "Bonus bonus: write your code using an object.\n",
    "\n",
    "## Problem 2: Finite-horizon Cake-eating Problem\n",
    "\n",
    "The household lives for $T$ periods. The per-period utility function is $u(c) = ln(c)$ and the discount rate is $\\beta=0.99$. The cake is of initial size $x_0 = 1$. The law of motion for the cake is $x' = x- c$.\n",
    "1. What is the state variable of the problem?\n",
    "1. Set up the Bellman Equation.\n",
    "1. What does the Bellman Equation look like in period $T$?\n",
    "1. Let $T=50$ and solve backwards. Then solve for $T=500$.\n",
    "1. Plot the two consumption paths and compare them to your answer in problem 1. How are they different and why?\n",
    "\n",
    "Bonus: write your code using functions. \\\n",
    "Bonus bonus: write your code using an object.\n",
    "\n",
    "## Problem 3: FOC from Bellman\n",
    "\n",
    "1. Derive the FOC for the consumption-savings problem in lecture.\n",
    "1. How is the FOC related to the Euler Equation?\n",
    "1. Compute optimal consumption using that FOC and compare it to the consumption path we got in class.\n",
    "1. Explain why they are different. Which one would you prefer?\n",
    "\n",
    "Bonus: write your code using functions. \\\n",
    "Bonus bonus: write your code using an object."
   ]
  },
  {
   "cell_type": "markdown",
   "metadata": {},
   "source": []
  }
 ],
 "metadata": {
  "language_info": {
   "name": "python"
  }
 },
 "nbformat": 4,
 "nbformat_minor": 2
}
