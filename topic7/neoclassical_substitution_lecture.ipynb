{
 "cells": [
  {
   "attachments": {},
   "cell_type": "markdown",
   "metadata": {},
   "source": [
    "# An RBC model\n",
    "\n",
    "In this notebook we show how to solve a simple RBC model in sequence space."
   ]
  },
  {
   "cell_type": "code",
   "execution_count": 17,
   "metadata": {},
   "outputs": [],
   "source": [
    "import numpy as np\n",
    "import scipy as sp\n",
    "import matplotlib.pyplot as plt"
   ]
  },
  {
   "attachments": {},
   "cell_type": "markdown",
   "metadata": {},
   "source": [
    "## Neoclassical growth model\n",
    "\n",
    "\n",
    "Let's consider a standard neoclassical growth model with the following equilibrium conditions\n",
    "\n",
    "$$\n",
    "H_t(\\mathbf{\\hat{k}}, \\mathbf{\\hat{a}}) \\equiv \n",
    "\\begin{pmatrix}\n",
    "\\gamma\\left[\\alpha + (1-s_c)\\frac{1-\\delta}{\\delta}\\right]\\hat{k}_{t-1} \\\\\n",
    "\t\t\t-\\gamma \\left[\\alpha + (1-s_c)\\frac{1}{\\delta}+(1-\\alpha)s_c(1 - \\beta(1-\\delta))\\right]\\hat{k}_{t} \\\\\n",
    "\t\t\t   +\\gamma  (1-s_c)\\frac{1}{\\delta}\\hat{k}_{t+1} \\\\\n",
    "\t\t\t+ \\gamma \\hat{z}_t \\\\\n",
    "\t\t\t -\\left[\\gamma-s_c(1 - \\beta(1-\\delta)) \\right]  \\hat{z}_{t+1} \n",
    "\\end{pmatrix}\n",
    "= \\begin{pmatrix} 0 \\\\ \\end{pmatrix},\n",
    "\\qquad t = 0, 1, \\dots \n",
    "\\tag{1}\n",
    "$$\n",
    "where $\\hat{k}$ is the sequence of endogenous variables, and $\\hat{z}$ is the sequence of exogenous variable. "
   ]
  },
  {
   "attachments": {},
   "cell_type": "markdown",
   "metadata": {},
   "source": [
    "We write the reduced system as\n",
    "$$\n",
    "\\textbf{H}_t(\\mathbf{\\hat{k}}, \\mathbf{\\hat{a}}) = 0\n",
    "$$\n",
    "\n",
    "We next set up the matrices as we did in class. First define the parameters."
   ]
  },
  {
   "cell_type": "code",
   "execution_count": null,
   "metadata": {},
   "outputs": [],
   "source": [
    "gamma = 1\n",
    "alpha = 0.33\n",
    "beta = 0.95\n",
    "delta = 0.025\n",
    "sc = 0.8\n",
    "T = 100"
   ]
  },
  {
   "attachments": {},
   "cell_type": "markdown",
   "metadata": {},
   "source": [
    "Next we set up the matrices in the market clearing block, which we use to construct $\\partial \\mathbf{H}/ \\partial \\mathbf{Y}$."
   ]
  },
  {
   "cell_type": "code",
   "execution_count": null,
   "metadata": {},
   "outputs": [],
   "source": [
    "# define sparse identity, above-diagonal sparse matrix, below-diagonal sparse matrix, and zero matrix\n",
    "I = sp.sparse.eye(T)\n",
    "Ip1 = sp.sparse.diags([np.ones(T-1)], [1], (T, T))\n",
    "Im1 = sp.sparse.diags([np.ones(T-1)], [-1], (T, T))\n",
    "Z = sp.sparse.csr_matrix((T, T))"
   ]
  }
 ],
 "metadata": {
  "kernelspec": {
   "display_name": "py311",
   "language": "python",
   "name": "python3"
  },
  "language_info": {
   "codemirror_mode": {
    "name": "ipython",
    "version": 3
   },
   "file_extension": ".py",
   "mimetype": "text/x-python",
   "name": "python",
   "nbconvert_exporter": "python",
   "pygments_lexer": "ipython3",
   "version": "3.11.8"
  },
  "orig_nbformat": 4
 },
 "nbformat": 4,
 "nbformat_minor": 2
}
