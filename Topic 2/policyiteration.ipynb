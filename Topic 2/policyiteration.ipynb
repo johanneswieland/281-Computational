{
 "cells": [
  {
   "cell_type": "markdown",
   "metadata": {},
   "source": [
    "# Policy Function Iteration, Convergence Criterion, Solvers\n",
    "\n",
    "Topics:\n",
    "1. Policy Function Iteration\n",
    "2. Root-finding with bisection\n",
    "3. Hill-climbing algorithm"
   ]
  },
  {
   "cell_type": "markdown",
   "metadata": {},
   "source": [
    "## Policy Function Iteration\n",
    "\n",
    "In our dynamic programming problem one of the most expensive steps was finding the optimal consumption choice. But, once we find it, we only use the solution once,\n",
    "$$\n",
    "V_{n+1}(a) = u(c_n(a)) + \\beta V_n((1+r)a + y - c_n(a)).\n",
    "$$\n",
    "Then in the next round we compute another policy.\n",
    "\n",
    "Policy iteration is an improvement-step that repeatedly applies the solution $c_n$ in the Bellman equation before we step into another value function iteration. Denote $V_{n,m}$ the value function after $n$ value function iterations and $m$ policy function iterations. Then,\n",
    "$$\n",
    "V_{n,m+1}(a) = u(c_{n}(a)) + \\beta V_{n,m}((1+r)a + y - c_n(a)).\n",
    "$$\n",
    "\n",
    "This can significantly speed up finding the solution. But there is a cost in that global convergence is no longer guaranteed."
   ]
  },
  {
   "cell_type": "code",
   "execution_count": null,
   "metadata": {},
   "outputs": [],
   "source": [
    "# policy function iteration in consumption problem"
   ]
  },
  {
   "cell_type": "markdown",
   "metadata": {},
   "source": [
    "Another form of policy function iteration iterates directly on the FOC. We know the Euler equation for our model is\n",
    "\\begin{align*}\n",
    "u'(c(a)) = \\beta(1+r)u'(c((1+r)a + y - c(a)))\n",
    "\\end{align*}\n",
    "\n",
    "We can form a guess $c(a)$ and iterate on the FOC. However, unlike iterating on the value function we generally cannot guarantee convergence. (Why?)"
   ]
  },
  {
   "cell_type": "code",
   "execution_count": null,
   "metadata": {},
   "outputs": [],
   "source": [
    "# iterating on the FOC"
   ]
  },
  {
   "cell_type": "markdown",
   "metadata": {},
   "source": [
    "## Solvers\n",
    "\n",
    "Rather than iterating on the FOC, we can also view it as a root-finding problem. A root-finding problem can be cast as finding the $x$ such that $f(x)=0$. This means we can use other mathematical tools to find a solution that might be more effective since convergence through iteration is not guaranteed.\n",
    "\n",
    "The benchmark root-finding method is called bisection. "
   ]
  }
 ],
 "metadata": {
  "language_info": {
   "name": "python"
  }
 },
 "nbformat": 4,
 "nbformat_minor": 2
}
