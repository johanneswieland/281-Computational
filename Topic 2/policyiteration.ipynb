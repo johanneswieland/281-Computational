{
 "cells": [
  {
   "cell_type": "markdown",
   "metadata": {},
   "source": [
    "# Policy Function Iteration, Convergence Criterion, Solvers\n",
    "\n",
    "Topics:\n",
    "1. Policy Function Iteration\n",
    "2. Root-finding with bisection\n",
    "3. Hill-climbing algorithm"
   ]
  },
  {
   "cell_type": "markdown",
   "metadata": {},
   "source": [
    "## Policy Function Iteration\n",
    "\n",
    "In our dynamic programming problem one of the most expensive steps was finding the optimal consumption choice. But, once we find it, we only use the solution once,\n",
    "$$\n",
    "V_{n+1}(a) = u(c_n(a)) + \\beta V_n((1+r)a + y - c_n(a)).\n",
    "$$\n",
    "Then in the next round we compute another policy.\n",
    "\n",
    "Policy iteration is an improvement-step that repeatedly applies the solution $c_n$ in the Bellman equation before we step into another value function iteration. Denote $V_{n,m}$ the value function after $n$ value function iterations and $m$ policy function iterations. Then,\n",
    "$$\n",
    "V_{n,m+1}(a) = u(c_{n}(a)) + \\beta V_{n,m}((1+r)a + y - c_n(a)).\n",
    "$$\n",
    "\n",
    "This can significantly speed up finding the solution. But there is a cost in that global convergence is no longer guaranteed."
   ]
  },
  {
   "cell_type": "code",
   "execution_count": 31,
   "metadata": {},
   "outputs": [
    {
     "name": "stdout",
     "output_type": "stream",
     "text": [
      "Converged after 128 iterations.\n"
     ]
    },
    {
     "data": {
      "image/png": "[encoded data removed]",
      "text/plain": [
       "<Figure size 640x480 with 1 Axes>"
      ]
     },
     "metadata": {},
     "output_type": "display_data"
    },
    {
     "name": "stdout",
     "output_type": "stream",
     "text": [
      "[1.0001001  1.0001001  1.0003003  1.0003003  1.0005005  1.0005005\n",
      " 1.0007007  1.0007007  1.0009009  1.0009009  1.0011011  1.0011011\n",
      " 1.0013013  1.0013013  1.0015015  1.0015015  1.0017017  1.0017017\n",
      " 1.0019019  1.0019019  1.0021021  1.0021021  1.0023023  1.0023023\n",
      " 1.0025025  1.0025025  1.0027027  1.0027027  1.0029029  1.0029029\n",
      " 1.0031031  1.0031031  1.0033033  1.0033033  1.0035035  1.0035035\n",
      " 1.0037037  1.0037037  1.0039039  1.0039039  1.0041041  1.0041041\n",
      " 1.0043043  1.0043043  1.0045045  1.0045045  1.0047047  1.0047047\n",
      " 1.0049049  1.0049049  1.00510511 1.00510511 1.00530531 1.00550551\n",
      " 1.00550551 1.00570571 1.00570571 1.00590591 1.00590591 1.00610611\n",
      " 1.00610611 1.00630631 1.00630631 1.00650651 1.00650651 1.00670671\n",
      " 1.00670671 1.00690691 1.00690691 1.00710711 1.00710711 1.00730731\n",
      " 1.00730731 1.00750751 1.00750751 1.00770771 1.00770771 1.00790791\n",
      " 1.00790791 1.00810811 1.00810811 1.00830831 1.00830831 1.00850851\n",
      " 1.00850851 1.00870871 1.00870871 1.00890891 1.00890891 1.00910911\n",
      " 1.00910911 1.00930931 1.00930931 1.00950951 1.00950951 1.00970971\n",
      " 1.00970971 1.00990991 1.00990991 1.00990991]\n"
     ]
    }
   ],
   "source": [
    "import numpy as np\n",
    "from scipy.interpolate import interp1d\n",
    "import matplotlib.pyplot as plt\n",
    "\n",
    "# same setup as before\n",
    "max_iter = 2000\n",
    "policy_iter = 10\n",
    "tolerance = 1e-7\n",
    "iteration = 0\n",
    "\n",
    "# fix parameters beta, r, and y\n",
    "beta = 0.99\n",
    "r = (1/beta) - 1\n",
    "y = 1\n",
    "amin = 0\n",
    "amax = 1\n",
    "grid_size = 100\n",
    "\n",
    "# define asset grid\n",
    "a = np.linspace(amin, amax, grid_size)\n",
    "\n",
    "# initial guess for the value function\n",
    "v0 = np.log(np.linspace(1, 10, grid_size))\n",
    "\n",
    "# define utility function --- makes it easy to change later\n",
    "def utility(c):\n",
    "    return np.log(c)\n",
    "\n",
    "v_new = v0\n",
    "\n",
    "# Howard iteration in value function consumption problem\n",
    "while iteration < max_iter:\n",
    "    v_old = v_new\n",
    "    c_candidates = y + np.linspace(-0.1, 0.1, 1000)\n",
    "    a_prime_candidates = (1+r)*a[np.newaxis, :] + y - c_candidates[:, np.newaxis]\n",
    "    f_interp = interp1d(a, v_old, kind='linear', bounds_error=False, fill_value='extrapolate')\n",
    "    v_prime_candidates = f_interp(a_prime_candidates)\n",
    "    utility_values = utility(c_candidates[:, np.newaxis]) + beta * v_prime_candidates\n",
    "    c_index = np.argmax(utility_values, axis=0)\n",
    "    c = c_candidates[c_index]\n",
    "    v_new = np.max(utility_values, axis=0)\n",
    "\n",
    "    # howard iteration\n",
    "    for _ in range(policy_iter):\n",
    "        a_prime = (1+r)*a + y - c\n",
    "        f_interp = interp1d(a, v_new, kind='linear', bounds_error=False, fill_value='extrapolate')\n",
    "        v_new = utility(c) + beta * f_interp(a_prime)\n",
    "\n",
    "    if np.max(np.abs(v_new - v_old)) < tolerance:\n",
    "        print(f'Converged after {iteration} iterations.')\n",
    "        break\n",
    "    iteration += 1\n",
    "\n",
    "# plot the value function and the initial guess v0\n",
    "plt.plot(a, a_prime, label='a_prime')\n",
    "plt.plot(a, c, label='c')\n",
    "plt.legend()\n",
    "plt.show()\n",
    "\n",
    "print(c)"
   ]
  },
  {
   "cell_type": "markdown",
   "metadata": {},
   "source": [
    "Another form of policy function iteration iterates directly on the FOC. We know the Euler equation for our model is\n",
    "\\begin{align*}\n",
    "u'(c(a)) = \\beta(1+r)u'(c((1+r)a + y - c(a)))\n",
    "\\end{align*}\n",
    "\n",
    "We can form a guess $c(a)$ and iterate on the FOC. However, unlike iterating on the value function we generally cannot guarantee convergence. (Why?)"
   ]
  },
  {
   "cell_type": "code",
   "execution_count": 2,
   "metadata": {},
   "outputs": [],
   "source": [
    "# iterating on the FOC"
   ]
  },
  {
   "cell_type": "markdown",
   "metadata": {},
   "source": [
    "## Solvers\n",
    "\n",
    "Rather than iterating on the FOC, we can also view it as a root-finding problem. A root-finding problem can be cast as finding the $x$ such that $f(x)=0$. This means we can use other mathematical tools to find a solution that might be more effective since convergence through iteration is not guaranteed.\n",
    "\n",
    "The benchmark root-finding method is called bisection. "
   ]
  }
 ],
 "metadata": {
  "kernelspec": {
   "display_name": "base",
   "language": "python",
   "name": "python3"
  },
  "language_info": {
   "codemirror_mode": {
    "name": "ipython",
    "version": 3
   },
   "file_extension": ".py",
   "mimetype": "text/x-python",
   "name": "python",
   "nbconvert_exporter": "python",
   "pygments_lexer": "ipython3",
   "version": "3.11.5"
  }
 },
 "nbformat": 4,
 "nbformat_minor": 2
}
